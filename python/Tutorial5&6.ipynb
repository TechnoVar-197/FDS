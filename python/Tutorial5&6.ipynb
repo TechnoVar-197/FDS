{
 "cells": [
  {
   "cell_type": "code",
   "execution_count": 5,
   "id": "a2fc85f9",
   "metadata": {},
   "outputs": [
    {
     "name": "stdout",
     "output_type": "stream",
     "text": [
      "Enter a stringI am SRM university\n",
      "I am SRM university ->  True\n"
     ]
    }
   ],
   "source": [
    "import re\n",
    "vowels=['a','e','i','o','u','A','I','E','O','U'] #list of vowels\n",
    "str = input(\"Enter a string:--\")\n",
    "slist=re.split(\"\\s\",str)\n",
    "a,b=slist[0],slist[1] #extracting first and second words from given string\n",
    "if (a[len(a)-1] in vowels and b[0]in vowels): #checking given condition \n",
    "    print(str,\"->  True\")\n",
    "else:\n",
    "    print(str,\"-> False\")"
   ]
  },
  {
   "cell_type": "code",
   "execution_count": 6,
   "id": "1b03e2ac",
   "metadata": {},
   "outputs": [
    {
     "name": "stdout",
     "output_type": "stream",
     "text": [
      "Enter a string:--I am at SRM university\n",
      "I am at SRM university ->  True\n"
     ]
    }
   ],
   "source": [
    "vowels=['a','e','i','o','u','A','I','E','O','U']\n",
    "str = input(\"Enter a string:--\")\n",
    "slist=str.split(\" \")\n",
    "a,b=slist[0],slist[1]\n",
    "if (a[len(a)-1] in vowels and b[0]in vowels):\n",
    "    print(str,\"->  True\")\n",
    "else:\n",
    "    print(str,\"-> False\")"
   ]
  },
  {
   "cell_type": "code",
   "execution_count": 7,
   "id": "af1ae341",
   "metadata": {},
   "outputs": [
    {
     "name": "stdout",
     "output_type": "stream",
     "text": [
      "Enter a string:--Enter at 1 20 Kearny Street. The security desk can direct you to floor 1 6. Please have your identification ready.\n",
      "Original string:\n",
      "Enter at 1 20 Kearny Street. The security desk can direct you to floor 1 6. Please have your identification ready.\n",
      "\n",
      "After concatenating the consecutive numbers in the said string:\n",
      "Enter at 120 Kearny Street. The security desk can direct you to floor 16. Please have your identification ready.\n"
     ]
    }
   ],
   "source": [
    "import re\n",
    "txt = input(\"Enter a string:--\")\n",
    "print(\"Original string:\")\n",
    "print(txt)\n",
    "new_txt = re.sub(r\"(?<=\\d)\\s(?=\\d)\", '', txt)\n",
    "print('\\nAfter concatenating the consecutive numbers in the said string:')\n",
    "print(new_txt)\n"
   ]
  },
  {
   "cell_type": "code",
   "execution_count": 8,
   "id": "7ffd0ad1",
   "metadata": {},
   "outputs": [
    {
     "name": "stdout",
     "output_type": "stream",
     "text": [
      "i_phone_script\n"
     ]
    }
   ],
   "source": [
    "from re import sub\n",
    "def snake_case(s):\n",
    "  return '_'.join(\n",
    "    sub('([A-Z][a-z]+)', r' \\1',\n",
    "    sub('([A-Z]+)', r' \\1',\n",
    "    s.replace('-', ' '))).split()).lower()\n",
    "\n",
    "print(snake_case('iPhoneScript'))"
   ]
  },
  {
   "cell_type": "code",
   "execution_count": null,
   "id": "44b8d8b7",
   "metadata": {},
   "outputs": [],
   "source": []
  }
 ],
 "metadata": {
  "kernelspec": {
   "display_name": "Python 3 (ipykernel)",
   "language": "python",
   "name": "python3"
  },
  "language_info": {
   "codemirror_mode": {
    "name": "ipython",
    "version": 3
   },
   "file_extension": ".py",
   "mimetype": "text/x-python",
   "name": "python",
   "nbconvert_exporter": "python",
   "pygments_lexer": "ipython3",
   "version": "3.10.6"
  }
 },
 "nbformat": 4,
 "nbformat_minor": 5
}
