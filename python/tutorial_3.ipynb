{
 "cells": [
  {
   "cell_type": "code",
   "execution_count": 10,
   "id": "494ecacd",
   "metadata": {},
   "outputs": [
    {
     "name": "stdout",
     "output_type": "stream",
     "text": [
      "The Eigen values:- [3.41421356 0.58578644]\n",
      "The Eigen vectors:-\n",
      " [[0.86285621 0.28108464]\n",
      " [0.50544947 0.95968298]]\n"
     ]
    }
   ],
   "source": [
    "# Eigen Values and Eigen Vectors of the given matrix\n",
    "import numpy as np\n",
    "arr =np.array([[ 4,-1],[2,0]])\n",
    "w,v=np.linalg.eig(arr)\n",
    "print(\"The Eigen values:-\",w)\n",
    "print(\"The Eigen vectors:-\\n\",v)\n"
   ]
  },
  {
   "cell_type": "code",
   "execution_count": 11,
   "id": "c6a15ca1",
   "metadata": {},
   "outputs": [
    {
     "name": "stdout",
     "output_type": "stream",
     "text": [
      "An 2x3 array comprising of 6 normally distributed random numbers with mean 12 and standard deviation 10:--\n",
      " [[17.14166717 29.75907934 14.01836117]\n",
      " [13.68814562  5.1294526  22.8998369 ]]\n"
     ]
    }
   ],
   "source": [
    "#Building an 2x3 array comprising of 6 normally distributed random numbers with mean 12 and standard deviation 10.\n",
    "from numpy import random\n",
    "x = random.normal(size=(2, 3),loc=12,scale=10)\n",
    "print(\"An 2x3 array comprising of 6 normally distributed random numbers with mean 12 and standard deviation 10:--\\n\",x)\n"
   ]
  },
  {
   "cell_type": "code",
   "execution_count": 16,
   "id": "b5f44130",
   "metadata": {},
   "outputs": [
    {
     "name": "stdout",
     "output_type": "stream",
     "text": [
      "Array:\n",
      "[[0.62576362 0.07765091 0.28293767 0.19089695 0.96192769 0.11197353]\n",
      " [0.00568046 0.89910532 0.30098329 0.85036302 0.35673064 0.00525857]\n",
      " [0.73929445 0.71674399 0.57417545 0.71549516 0.28940589 0.18855227]\n",
      " [0.64926849 0.49435703 0.24354775 0.45861413 0.36248699 0.80140323]\n",
      " [0.32701041 0.51881838 0.75244219 0.6225237  0.13319041 0.32003072]\n",
      " [0.15968115 0.33691195 0.47745409 0.08184549 0.97882906 0.99440583]]\n",
      "Minimum Value of the array:-- 0.005258566777959772\n",
      "Maximum Value of the array:-- 0.9944058297591419\n"
     ]
    }
   ],
   "source": [
    "#Construct a program to create a 6x6 array with random values\n",
    "#find the minimum and maximum values\n",
    "import numpy as np\n",
    "arr = np.random.random((6,6))\n",
    "print(\"Array:\\n\",arr) \n",
    "arrmin=arr.min()\n",
    "arrmax=arr.max()\n",
    "print(\"Minimum Value of the array:--\",arrmin)\n",
    "print(\"Maximum Value of the array:--\",arrmax)"
   ]
  },
  {
   "cell_type": "code",
   "execution_count": null,
   "id": "f5a610a4",
   "metadata": {},
   "outputs": [],
   "source": []
  }
 ],
 "metadata": {
  "kernelspec": {
   "display_name": "Python 3 (ipykernel)",
   "language": "python",
   "name": "python3"
  },
  "language_info": {
   "codemirror_mode": {
    "name": "ipython",
    "version": 3
   },
   "file_extension": ".py",
   "mimetype": "text/x-python",
   "name": "python",
   "nbconvert_exporter": "python",
   "pygments_lexer": "ipython3",
   "version": "3.10.6"
  }
 },
 "nbformat": 4,
 "nbformat_minor": 5
}
