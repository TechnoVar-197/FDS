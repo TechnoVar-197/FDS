{
 "cells": [
  {
   "cell_type": "code",
   "execution_count": 20,
   "id": "7a4f3b66",
   "metadata": {},
   "outputs": [
    {
     "name": "stdout",
     "output_type": "stream",
     "text": [
      "the sum of of all elments:-- 39.28\n",
      "the sum of of each row :-- [11.02 12.49 15.77]\n",
      "the sum of of each columns :-- [15.51 11.45 12.32]\n"
     ]
    }
   ],
   "source": [
    "import numpy as np\n",
    "arr=np.array([[5.24,3.28,6.99],[3.24,5.82,2.39],[2.54,3.39,6.39]])\n",
    "# to diplay the sum of of all elments , sum of each columnn , sum of each row\n",
    "sum_ele=arr.sum()\n",
    "sum_row=arr.sum(axis=0)\n",
    "sum_col=arr.sum(axis=1)\n",
    "print(\"the sum of of all elments:--\",sum_ele)\n",
    "print(\"the sum of of each row :--\",sum_row)\n",
    "print(\"the sum of of each columns :--\",sum_col)"
   ]
  },
  {
   "cell_type": "code",
   "execution_count": 15,
   "id": "1cfd4ed0",
   "metadata": {},
   "outputs": [
    {
     "name": "stdout",
     "output_type": "stream",
     "text": [
      " After Substitute elements of the above array which are equal to 5.32 with 15.32\n",
      "[[5.24 3.28 6.99]\n",
      " [3.24 5.82 2.39]\n",
      " [2.54 3.39 6.39]]\n"
     ]
    }
   ],
   "source": [
    "# Substitute elements of the above array which are equal to 5.32 with 15.32\n",
    "arr1=arr\n",
    "for i  in range(len(arr1)):\n",
    "    for j in range(len(arr1[i])):\n",
    "        if (arr1[i][j]==5.32):\n",
    "            arr1[i][j]=15.32\n",
    "print(\" After Substituting elements of the above array which are equal to 5.32 with 15.32\")\n",
    "print(arr1)"
   ]
  },
  {
   "cell_type": "code",
   "execution_count": 16,
   "id": "e0455265",
   "metadata": {},
   "outputs": [
    {
     "name": "stdout",
     "output_type": "stream",
     "text": [
      " After Substitute elements of the above array which are less than 5.32 with 15.32\n",
      "[[15.32 15.32  6.99]\n",
      " [15.32  5.82 15.32]\n",
      " [15.32 15.32  6.39]]\n"
     ]
    }
   ],
   "source": [
    "# Substitute elements of the above array which are less than 5.32 with 15.32\n",
    "arr2=arr\n",
    "for i  in range(len(arr2)):\n",
    "    for j in range(len(arr2[i])):\n",
    "        if (arr2[i][j]<5.32):\n",
    "            arr2[i][j]=15.32\n",
    "print(\" After Substituting elements of the above array which are less than 5.32 with 15.32\")\n",
    "print(arr2)"
   ]
  },
  {
   "cell_type": "code",
   "execution_count": 21,
   "id": "fb759485",
   "metadata": {},
   "outputs": [
    {
     "name": "stdout",
     "output_type": "stream",
     "text": [
      " After Substitute elements of the above array which are greater than 5.32 with 15.32\n",
      "[[ 5.24  3.28 15.32]\n",
      " [ 3.24 15.32  2.39]\n",
      " [ 2.54  3.39 15.32]]\n"
     ]
    }
   ],
   "source": [
    "# Substitute elements of the above array which are greater than 5.32 with 15.32\n",
    "arr_gr=arr\n",
    "for i  in range(len(arr_gr)):\n",
    "    for j in range(len(arr_gr[i])):\n",
    "        if (arr_gr[i][j]>5.32):\n",
    "            arr_gr[i][j]=15.32\n",
    "print(\" After Substituting elements of the above array which are greater than 5.32 with 15.32\")\n",
    "print(arr_gr)"
   ]
  },
  {
   "cell_type": "code",
   "execution_count": 35,
   "id": "9d16e85a",
   "metadata": {},
   "outputs": [
    {
     "name": "stdout",
     "output_type": "stream",
     "text": [
      "Sorting the array by column:\n",
      " [[2.54 3.28 2.39]\n",
      " [3.24 3.39 6.39]\n",
      " [5.24 5.82 6.99]]\n",
      "Sorting the array by row:\n",
      " [[3.28 5.24 6.99]\n",
      " [2.39 3.24 5.82]\n",
      " [2.54 3.39 6.39]]\n"
     ]
    }
   ],
   "source": [
    "#Sorting row and column in ascending order\n",
    "arr=np.array([[5.24,3.28,6.99],[3.24,5.82,2.39],[2.54,3.39,6.39]])\n",
    "arr_sc=np.sort(arr,axis=0)\n",
    "print(\"Sorting the array by column:\\n\",arr_sc)\n",
    "arr_sr=np.sort(arr,axis=1)\n",
    "print(\"Sorting the array by row:\\n\",arr_sr)"
   ]
  },
  {
   "cell_type": "code",
   "execution_count": 37,
   "id": "c3fee34e",
   "metadata": {},
   "outputs": [
    {
     "name": "stdout",
     "output_type": "stream",
     "text": [
      "Spliting the above array into two arrays along the second axis\n",
      "[array([[ 0,  1,  2],\n",
      "       [ 4,  5,  6],\n",
      "       [ 8,  9, 10],\n",
      "       [12, 13, 14]]), array([[ 3],\n",
      "       [ 7],\n",
      "       [11],\n",
      "       [15]]), array([], shape=(4, 0), dtype=int32)]\n"
     ]
    }
   ],
   "source": [
    "#Split the array into two arrays along the second axis\n",
    "narr=np.arange(16)\n",
    "narr=np.reshape(narr,(4,4))\n",
    "hnarr=np.hsplit(narr,(3,6))\n",
    "print(\"Spliting the above array into two arrays along the second axis\")\n",
    "print(hnarr)"
   ]
  },
  {
   "cell_type": "code",
   "execution_count": 33,
   "id": "ff66933d",
   "metadata": {},
   "outputs": [
    {
     "name": "stdout",
     "output_type": "stream",
     "text": [
      "given array:\n",
      "[(2+3j), (4-1j), (2-2j), (4-3j), (3+5j)]\n",
      "complex array using the real part first, then the imaginary part.\n",
      "[2.-2.j 2.+3.j 3.+5.j 4.-3.j 4.-1.j]\n"
     ]
    }
   ],
   "source": [
    "#to sort the complex array using the real part first, then the imaginary part.\n",
    "arr_cp = [(2+3j), (4-1j), (2-2j), (4-3j), (3+5j)]\n",
    "print(\"given array:--\")\n",
    "print(arr_cp)\n",
    "print(\"complex array using the real part first, then the imaginary part.\")\n",
    "print(np.sort_complex(arr_cp))"
   ]
  },
  {
   "cell_type": "code",
   "execution_count": 39,
   "id": "37c8d2b6",
   "metadata": {},
   "outputs": [
    {
     "name": "stdout",
     "output_type": "stream",
     "text": [
      "before sorting\n",
      "[(b'John', 6, 52.5 ) (b'Naught', 6, 48.5 ) (b'Prince', 3, 41.1 )\n",
      " (b'Paul', 4, 43.11)]\n",
      "After sorting\n",
      "[(b'Prince', 3, 41.1 ) (b'Paul', 4, 43.11) (b'John', 6, 52.5 )\n",
      " (b'Naught', 6, 48.5 )]\n"
     ]
    }
   ],
   "source": [
    "#to sort the array on height by assuming an structured array from given set of name, height, class and their data types\n",
    "dtype = [('name', 'S115'), ('height', int), ('age', float)]\n",
    "values = [('John', 6, 52.5 ),('Naught', 6, 48.5 ),('Prince', 3, 41.1 ),('Paul', 4, 43.11)]\n",
    "# creating a structured array\n",
    "a = np.array(values, dtype=dtype)\n",
    "print(\"before sorting\")\n",
    "print(a)\n",
    "print(\"After sorting\")\n",
    "print(np.sort(a, order='height'))\n"
   ]
  },
  {
   "cell_type": "code",
   "execution_count": null,
   "id": "79ee1672",
   "metadata": {},
   "outputs": [],
   "source": []
  }
 ],
 "metadata": {
  "kernelspec": {
   "display_name": "Python 3 (ipykernel)",
   "language": "python",
   "name": "python3"
  },
  "language_info": {
   "codemirror_mode": {
    "name": "ipython",
    "version": 3
   },
   "file_extension": ".py",
   "mimetype": "text/x-python",
   "name": "python",
   "nbconvert_exporter": "python",
   "pygments_lexer": "ipython3",
   "version": "3.10.6"
  }
 },
 "nbformat": 4,
 "nbformat_minor": 5
}
