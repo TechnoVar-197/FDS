{
 "cells": [
  {
   "cell_type": "code",
   "execution_count": 1,
   "id": "f273f9fa",
   "metadata": {},
   "outputs": [
    {
     "name": "stdout",
     "output_type": "stream",
     "text": [
      "The array of third element from all columns\n",
      "[ 9 21 33 45 57]\n"
     ]
    }
   ],
   "source": [
    "import numpy as np\n",
    "y=np.array([[3,6,9,12],[15,18,21,24],[27,30,33,36],[39,42,45,48],[51,54,57,60]])\n",
    "# array of elements in the third element from all the rows\n",
    "third_elemnets=[]\n",
    "print(\"The array of third element from all columns\")\n",
    "for i in y:\n",
    "    third_elemnets.append(i[2])\n",
    "third_array=np.array(third_elemnets)\n",
    "print(third_array)\n"
   ]
  },
  {
   "cell_type": "code",
   "execution_count": 2,
   "id": "6452e772",
   "metadata": {},
   "outputs": [
    {
     "name": "stdout",
     "output_type": "stream",
     "text": [
      "[[12  9  6  3]\n",
      " [24 21 18 15]\n",
      " [36 33 30 27]\n",
      " [48 45 42 39]\n",
      " [60 57 54 51]]\n"
     ]
    }
   ],
   "source": [
    "#Build a new array from above swapping first and last\n",
    "swap = y[::,::-1]\n",
    "print(swap)"
   ]
  },
  {
   "cell_type": "code",
   "execution_count": 8,
   "id": "e6446b08",
   "metadata": {},
   "outputs": [
    {
     "name": "stdout",
     "output_type": "stream",
     "text": [
      "[[ 3  6  9 12]\n",
      " [15 18 21 24]\n",
      " [27 30 33 36]\n",
      " [39 42 45 48]\n",
      " [51 54 57 60]]\n",
      "[[ 6 12]\n",
      " [30 36]\n",
      " [54 60]]\n"
     ]
    }
   ],
   "source": [
    "#build a new array of odd rows and even columns \n",
    "new_array=y[::2,1::2]\n",
    "print(y)\n",
    "print(new_array)"
   ]
  },
  {
   "cell_type": "code",
   "execution_count": 4,
   "id": "fb01ada2",
   "metadata": {},
   "outputs": [
    {
     "name": "stdout",
     "output_type": "stream",
     "text": [
      " Array After Swap rows and columns in reverse order \n",
      "[[60 57 54 51]\n",
      " [48 45 42 39]\n",
      " [36 33 30 27]\n",
      " [24 21 18 15]\n",
      " [12  9  6  3]]\n"
     ]
    }
   ],
   "source": [
    "#Swap rows and columns in  reverse order\n",
    "tranpose=y[::-1,::-1]\n",
    "print(\" Array After Swap rows and columns in reverse order \")\n",
    "print(tranpose)"
   ]
  },
  {
   "cell_type": "code",
   "execution_count": 5,
   "id": "41536da0",
   "metadata": {},
   "outputs": [
    {
     "name": "stdout",
     "output_type": "stream",
     "text": [
      "[13 11 19 10]\n"
     ]
    }
   ],
   "source": [
    "# Get all items between 7 and 20 from b\n",
    "b=np.array([13,6,11,19,10,3,27])\n",
    "index = np.where((b > 7) & (b < 25))\n",
    "print(b[index])"
   ]
  },
  {
   "cell_type": "code",
   "execution_count": 6,
   "id": "19305281",
   "metadata": {},
   "outputs": [
    {
     "name": "stdout",
     "output_type": "stream",
     "text": [
      "the index of 6th repetition of 5 in array is  11\n"
     ]
    }
   ],
   "source": [
    "#identify the index of 6th repetition of 5 in array\n",
    "x=np.array([5,2,5,5,3,4,3,5,5,2,5,5,2])\n",
    "c=0\n",
    "for i in range(0,len(x)):\n",
    "  if(x[i]==5):\n",
    "    c=c+1\n",
    "    if(c==6):\n",
    "      print(\"the index of 6th repetition of 5 in array is \",i+1)\n",
    "      break"
   ]
  }
 ],
 "metadata": {
  "kernelspec": {
   "display_name": "Python 3 (ipykernel)",
   "language": "python",
   "name": "python3"
  },
  "language_info": {
   "codemirror_mode": {
    "name": "ipython",
    "version": 3
   },
   "file_extension": ".py",
   "mimetype": "text/x-python",
   "name": "python",
   "nbconvert_exporter": "python",
   "pygments_lexer": "ipython3",
   "version": "3.10.6"
  }
 },
 "nbformat": 4,
 "nbformat_minor": 5
}
