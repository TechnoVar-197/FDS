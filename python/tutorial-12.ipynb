{
 "cells": [
  {
   "cell_type": "code",
   "execution_count": 10,
   "metadata": {
    "execution": {
     "iopub.execute_input": "2022-11-07T17:28:22.198365Z",
     "iopub.status.busy": "2022-11-07T17:28:22.197848Z",
     "iopub.status.idle": "2022-11-07T17:28:22.222345Z",
     "shell.execute_reply": "2022-11-07T17:28:22.220774Z",
     "shell.execute_reply.started": "2022-11-07T17:28:22.198328Z"
    }
   },
   "outputs": [
    {
     "name": "stdout",
     "output_type": "stream",
     "text": [
      "Original Orders DataFrame:\n",
      "    ord_no  purch_amt    ord_date  customer_id  salesman_id\n",
      "0    70001     150.50  2022-10-05         5001         5002\n",
      "1    70009     270.65  2022-09-10         5001         5005\n",
      "2    70002      65.26  2022-10-05         5005         5001\n",
      "3    70004     110.50  2022-08-17         5001         5003\n",
      "4    70007     948.50  2022-09-10         5005         5002\n",
      "5    70005    2400.60  2022-07-27         5001         5001\n",
      "6    70008    5760.00  2022-09-10         5005         5001\n",
      "7    70010    1983.43  2022-10-10         5001         5006\n",
      "8    70003    2480.40  2022-10-10         5005         5003\n",
      "9    70012     250.45  2022-06-27         5001         5002\n",
      "10   70011      75.29  2022-08-17         5005         5007\n",
      "11   70013    3045.60  2022-04-25         5005         5001\n",
      "\n",
      "Group by two columns and count by each row:\n",
      "                         0\n",
      "salesman_id customer_id   \n",
      "5001        5001         1\n",
      "            5005         3\n",
      "5002        5001         2\n",
      "            5005         1\n",
      "5003        5001         1\n",
      "            5005         1\n",
      "5005        5001         1\n",
      "5006        5001         1\n",
      "5007        5005         1\n"
     ]
    }
   ],
   "source": [
    "import pandas as pd\n",
    "pd.set_option('display.max_rows', None)\n",
    "#pd.set_option('display.max_columns', None)\n",
    "orders_data = pd.DataFrame({\n",
    "'ord_no':[70001,70009,70002,70004,70007,70005,70008,70010,70003,70012,70011,70013],\n",
    "'purch_amt':[150.5,270.65,65.26,110.5,948.5,2400.6,5760,1983.43,2480.4,250.45, 75.29,3045.6],\n",
    "'ord_date': ['2022-10-05','2022-09-10','2022-10-05','2022-08-17','2022-09-10','2022-07-27','2022-09-10','2022-10-10','2022-10-10','2022-06-27','2022-08-17','2022-04-25'],\n",
    "'customer_id':[5001,5001,5005,5001,5005,5001,5005,5001,5005,5001,5005,5005],\n",
    "'salesman_id': [5002,5005,5001,5003,5002,5001,5001,5006,5003,5002,5007,5001]})\n",
    "print(\"Original Orders DataFrame:\")\n",
    "print(orders_data)\n",
    "print(\"\\nGroup by two columns and count by each row:\")\n",
    "result = orders_data.groupby(['salesman_id','customer_id']).size().reset_index().groupby(['salesman_id','customer_id'])[[0]].max()\n",
    "print(result)"
   ]
  },
  {
   "cell_type": "code",
   "execution_count": 11,
   "metadata": {
    "execution": {
     "iopub.execute_input": "2022-11-07T17:28:22.225646Z",
     "iopub.status.busy": "2022-11-07T17:28:22.224793Z",
     "iopub.status.idle": "2022-11-07T17:28:22.244087Z",
     "shell.execute_reply": "2022-11-07T17:28:22.242712Z",
     "shell.execute_reply.started": "2022-11-07T17:28:22.225594Z"
    }
   },
   "outputs": [
    {
     "name": "stdout",
     "output_type": "stream",
     "text": [
      "Original Orders DataFrame:\n",
      "    ord_no  purch_amt    ord_date  customer_id  salesman_id\n",
      "0    70001     150.50  2022-10-05         5001         5002\n",
      "1    70009     270.65  2022-09-10         5001         5005\n",
      "2    70002      65.26  2022-10-05         5005         5001\n",
      "3    70004     110.50  2022-08-17         5001         5003\n",
      "4    70007     948.50  2022-09-10         5005         5002\n",
      "5    70005    2400.60  2022-07-27         5001         5001\n",
      "6    70008    5760.00  2022-09-10         5005         5001\n",
      "7    70010    1983.43  2022-10-10         5001         5006\n",
      "8    70003    2480.40  2022-10-10         5005         5003\n",
      "9    70012     250.45  2022-06-27         5001         5002\n",
      "10   70011      75.29  2022-08-17         5005         5007\n",
      "11   70013    3045.60  2022-04-25         5005         5001\n",
      "\n",
      "Year wise Month wise purchase amount:\n",
      "                   purch_amt\n",
      "ord_date ord_date           \n",
      "2022     4           3045.60\n",
      "         6            250.45\n",
      "         7           2400.60\n",
      "         8            185.79\n",
      "         9           6979.15\n",
      "         10          4679.59\n"
     ]
    }
   ],
   "source": [
    "print(\"Original Orders DataFrame:\")\n",
    "print(orders_data)\n",
    "orders_data['ord_date']= pd.to_datetime(orders_data['ord_date']) \n",
    "print(\"\\nYear wise Month wise purchase amount:\")\n",
    "result = orders_data.groupby([orders_data['ord_date'].dt.year, orders_data['ord_date'].dt.month]).agg({'purch_amt':sum})\n",
    "print(result)"
   ]
  },
  {
   "cell_type": "code",
   "execution_count": 12,
   "metadata": {
    "execution": {
     "iopub.execute_input": "2022-11-07T17:28:22.246349Z",
     "iopub.status.busy": "2022-11-07T17:28:22.245661Z",
     "iopub.status.idle": "2022-11-07T17:28:22.265018Z",
     "shell.execute_reply": "2022-11-07T17:28:22.263676Z",
     "shell.execute_reply.started": "2022-11-07T17:28:22.246311Z"
    }
   },
   "outputs": [
    {
     "name": "stdout",
     "output_type": "stream",
     "text": [
      "Original DataFrame:\n",
      "   id  type  book\n",
      "0   1    10     C\n",
      "1   2    15   C++\n",
      "2   1    11  Java\n",
      "3   1    20     C\n",
      "4   2    21   C++\n",
      "5   1    12  Java\n",
      "6   2    14   C++\n",
      "\n",
      "Result:\n",
      "book     C  C++  Java\n",
      "id type              \n",
      "1  10    1    0     0\n",
      "   11    0    0     1\n",
      "   12    0    0     1\n",
      "   20    1    0     0\n",
      "2  14    0    1     0\n",
      "   15    0    1     0\n",
      "   21    0    1     0\n"
     ]
    }
   ],
   "source": [
    "import pandas as pd\n",
    "df = pd.DataFrame( {'id' : [1, 2, 1, 1, 2, 1, 2], \n",
    "                    'type' : [10, 15, 11, 20, 21, 12, 14], \n",
    "                    'book' : ['C','C++','Java','C','C++','Java','C++']})\n",
    "\n",
    "print(\"Original DataFrame:\")\n",
    "print(df)\n",
    "result = df.groupby(['id', 'type', 'book']).size().unstack(fill_value=0)\n",
    "print(\"\\nResult:\")\n",
    "print(result)"
   ]
  },
  {
   "cell_type": "code",
   "execution_count": 13,
   "metadata": {
    "execution": {
     "iopub.execute_input": "2022-11-07T17:28:22.267235Z",
     "iopub.status.busy": "2022-11-07T17:28:22.266768Z",
     "iopub.status.idle": "2022-11-07T17:28:22.296174Z",
     "shell.execute_reply": "2022-11-07T17:28:22.295206Z",
     "shell.execute_reply.started": "2022-11-07T17:28:22.267177Z"
    }
   },
   "outputs": [
    {
     "name": "stdout",
     "output_type": "stream",
     "text": [
      "Original DataFrame:\n",
      "   school_code class            name date_Of_Birth   age  height  weight  \\\n",
      "S1        s001     V  Alberto Franco     15/05/2002   12     173      35   \n",
      "S2        s002     V    Gino Mcneill     17/05/2002   12     192      32   \n",
      "S3        s003    VI     Ryan Parkes     16/02/1999   13     186      33   \n",
      "S4        s001    VI    Eesha Hinton     25/09/1998   13     167      30   \n",
      "S5        s002     V    Gino Mcneill     11/05/2002   14     151      31   \n",
      "S6        s001    VI    David Parkes     15/09/1997   12     159      32   \n",
      "\n",
      "    address  \n",
      "S1  street1  \n",
      "S2  street2  \n",
      "S3  street3  \n",
      "S4  street1  \n",
      "S5  street2  \n",
      "S6  street4  \n",
      "\n",
      "Group by with multiple aggregations:\n",
      "                  height        weight          \n",
      "                     max   mean    sum min count\n",
      "school_code class                               \n",
      "s001        V        173  173.0     35  35     1\n",
      "            VI       167  163.0     62  30     2\n",
      "s002        V        192  171.5     63  31     2\n",
      "s003        VI       186  186.0     33  33     1\n"
     ]
    }
   ],
   "source": [
    "import pandas as pd\n",
    "pd.set_option('display.max_rows', None)\n",
    "#pd.set_option('display.max_columns', None)\n",
    "df = pd.DataFrame({\n",
    "    'school_code': ['s001','s002','s003','s001','s002','s001'],\n",
    "    'class': ['V', 'V', 'VI', 'VI', 'V', 'VI'],\n",
    "    'name': ['Alberto Franco','Gino Mcneill','Ryan Parkes', 'Eesha Hinton', 'Gino Mcneill', 'David Parkes'],\n",
    "    'date_Of_Birth ': ['15/05/2002','17/05/2002','16/02/1999','25/09/1998','11/05/2002','15/09/1997'],\n",
    "    'age': [12, 12, 13, 13, 14, 12],\n",
    "    'height': [173, 192, 186, 167, 151, 159],\n",
    "    'weight': [35, 32, 33, 30, 31, 32],\n",
    "    'address': ['street1', 'street2', 'street3', 'street1', 'street2', 'street4']},\n",
    "    index=['S1', 'S2', 'S3', 'S4', 'S5', 'S6'])\n",
    "print(\"Original DataFrame:\")\n",
    "print(df)\n",
    "print(\"\\nGroup by with multiple aggregations:\")\n",
    "result = df.groupby(['school_code','class']).agg({'height': ['max', 'mean'],\n",
    "                                 'weight': ['sum','min','count']})\n",
    "print(result)"
   ]
  },
  {
   "cell_type": "code",
   "execution_count": 14,
   "metadata": {
    "execution": {
     "iopub.execute_input": "2022-11-07T17:28:22.299283Z",
     "iopub.status.busy": "2022-11-07T17:28:22.298151Z",
     "iopub.status.idle": "2022-11-07T17:28:22.320191Z",
     "shell.execute_reply": "2022-11-07T17:28:22.319274Z",
     "shell.execute_reply.started": "2022-11-07T17:28:22.299241Z"
    }
   },
   "outputs": [
    {
     "name": "stdout",
     "output_type": "stream",
     "text": [
      "Original DataFrame:\n",
      "   id  type  book\n",
      "0   A     1     C\n",
      "1   A     1     C\n",
      "2   B     1   C++\n",
      "3   B     1  Java\n",
      "4   B     2     C\n",
      "5   B     2   C++\n",
      "6   C     1  Java\n",
      "7   C     1    DS\n",
      "8   C     1    DS\n",
      "9   C     2    DS\n",
      "10  C     2  Java\n",
      "\n",
      "List all unique values in a group:\n",
      "  id  type      book\n",
      "0  A     1         C\n",
      "1  B     1  C++,Java\n",
      "2  B     2     C,C++\n",
      "3  C     1   Java,DS\n",
      "4  C     2   DS,Java\n"
     ]
    }
   ],
   "source": [
    "import pandas as pd\n",
    "df = pd.DataFrame( {'id' : ['A','A','B','B','B','B','C','C','C','C','C'], \n",
    "                    'type' : [1,1,1,1,2,2,1,1,1,2,2], \n",
    "                    'book' : ['C','C','C++','Java','C','C++','Java','DS','DS','DS','Java']})\n",
    "\n",
    "print(\"Original DataFrame:\")\n",
    "print(df)\n",
    "new_df = df[['id', 'type', 'book']].drop_duplicates()\\\n",
    "                         .groupby(['id','type'])['book']\\\n",
    "                         .apply(list)\\\n",
    "                         .reset_index()\n",
    "\n",
    "new_df['book'] = new_df.apply(lambda x: (','.join([str(s) for s in x['book']])), axis = 1)\n",
    "print(\"\\nList all unique values in a group:\")\n",
    "print(new_df)"
   ]
  }
 ],
 "metadata": {
  "kernelspec": {
   "display_name": "Python 3 (ipykernel)",
   "language": "python",
   "name": "python3"
  },
  "language_info": {
   "codemirror_mode": {
    "name": "ipython",
    "version": 3
   },
   "file_extension": ".py",
   "mimetype": "text/x-python",
   "name": "python",
   "nbconvert_exporter": "python",
   "pygments_lexer": "ipython3",
   "version": "3.11.0"
  }
 },
 "nbformat": 4,
 "nbformat_minor": 4
}
